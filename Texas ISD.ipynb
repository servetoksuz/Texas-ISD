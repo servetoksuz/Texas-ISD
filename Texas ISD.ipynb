{
 "cells": [
  {
   "cell_type": "code",
   "execution_count": 232,
   "id": "6e526b6f",
   "metadata": {},
   "outputs": [],
   "source": [
    "import requests\n",
    "from bs4 import BeautifulSoup\n",
    "import spacy\n",
    "import sys\n",
    "nlp = spacy.load('en_core_web_sm')"
   ]
  },
  {
   "cell_type": "code",
   "execution_count": 233,
   "id": "ac3cc30d",
   "metadata": {},
   "outputs": [],
   "source": [
    "URL = \"https://www.texasisd.com/\"\n",
    "page = requests.get(URL)"
   ]
  },
  {
   "cell_type": "code",
   "execution_count": 234,
   "id": "8c0a146d",
   "metadata": {},
   "outputs": [],
   "source": [
    "soup = BeautifulSoup(page.content, 'html.parser')"
   ]
  },
  {
   "cell_type": "code",
   "execution_count": 235,
   "id": "f9016c9d",
   "metadata": {},
   "outputs": [],
   "source": [
    "html = list(soup.children)[2]"
   ]
  },
  {
   "cell_type": "code",
   "execution_count": 236,
   "id": "6068fe70",
   "metadata": {},
   "outputs": [],
   "source": [
    "body = list(html.children)[5]"
   ]
  },
  {
   "cell_type": "code",
   "execution_count": 237,
   "id": "5a3e902e",
   "metadata": {},
   "outputs": [],
   "source": [
    "p = list(body.children)[3]"
   ]
  },
  {
   "cell_type": "code",
   "execution_count": 259,
   "id": "40377148",
   "metadata": {},
   "outputs": [],
   "source": [
    "soup.find_all('p')[1].title"
   ]
  },
  {
   "cell_type": "code",
   "execution_count": 255,
   "id": "a195ddd3",
   "metadata": {},
   "outputs": [],
   "source": [
    "for i in range(len(soup.find_all('p'))):\n",
    "    globals()['news'+str(i)] = soup.find_all('p')[i].get_text()"
   ]
  },
  {
   "cell_type": "code",
   "execution_count": 260,
   "id": "efa3af5e",
   "metadata": {},
   "outputs": [
    {
     "data": {
      "text/plain": [
       "str"
      ]
     },
     "execution_count": 260,
     "metadata": {},
     "output_type": "execute_result"
    }
   ],
   "source": [
    "type(news1)"
   ]
  },
  {
   "cell_type": "code",
   "execution_count": 261,
   "id": "6f770c88",
   "metadata": {},
   "outputs": [],
   "source": [
    "doc_list = []\n",
    "nlp_list = []\n",
    "for i in range(len(soup.find_all('p'))):\n",
    "    doc_list.append(globals()['news'+str(i)])\n",
    "    with open('news'+str(i)+\".txt\", \"w\", encoding=\"utf-8\") as f:\n",
    "        f.write(globals()['news'+str(i)]) # This stores strings as text files"
   ]
  },
  {
   "cell_type": "code",
   "execution_count": 262,
   "id": "e17f2af1",
   "metadata": {},
   "outputs": [],
   "source": [
    "nlp_list = []\n",
    "for i in range(len(doc_list)):\n",
    "    with open(r'C:\\Users\\serve\\news'+str(i)+'.txt', encoding=\"utf-8\") as f:\n",
    "        nlp_list.append(nlp(f.read()))"
   ]
  },
  {
   "cell_type": "code",
   "execution_count": 263,
   "id": "07d82a2e",
   "metadata": {},
   "outputs": [],
   "source": [
    "search_list = ['election']"
   ]
  },
  {
   "cell_type": "code",
   "execution_count": 264,
   "id": "cfbffaf1",
   "metadata": {},
   "outputs": [],
   "source": [
    "search_patterns = [nlp(text) for text in search_list]"
   ]
  },
  {
   "cell_type": "code",
   "execution_count": 265,
   "id": "0787911d",
   "metadata": {},
   "outputs": [],
   "source": [
    "from spacy.matcher import PhraseMatcher\n",
    "matcher = PhraseMatcher(nlp.vocab)"
   ]
  },
  {
   "cell_type": "code",
   "execution_count": 266,
   "id": "537cc427",
   "metadata": {},
   "outputs": [],
   "source": [
    "matcher.add('tax_search', None, *search_patterns)"
   ]
  },
  {
   "cell_type": "code",
   "execution_count": 267,
   "id": "b611896e",
   "metadata": {},
   "outputs": [],
   "source": [
    "match_list = []\n",
    "for i in nlp_list:\n",
    "    match_list.append(matcher(i))"
   ]
  },
  {
   "cell_type": "code",
   "execution_count": 268,
   "id": "1942390c",
   "metadata": {},
   "outputs": [
    {
     "name": "stdout",
     "output_type": "stream",
     "text": [
      "news13 31 32 , including $2,000 retention incentive payments approved\n",
      "news14 30 31 operations, including $2,000 retention incentive payments\n"
     ]
    }
   ],
   "source": [
    "for i in range(len(match_list)):\n",
    "    for match_id, start, end in match_list[i]:\n",
    "        string_id = nlp.vocab.strings[match_id]  # get string representation\n",
    "        span = nlp_list[2][start-5:end+2]                    # get the matched span\n",
    "        print('news'+str(i), start, end, span.text)"
   ]
  },
  {
   "cell_type": "code",
   "execution_count": 247,
   "id": "de82f00f",
   "metadata": {},
   "outputs": [],
   "source": [
    "found_matches = matcher(nlp_list[2])"
   ]
  },
  {
   "cell_type": "code",
   "execution_count": null,
   "id": "58c33d4f",
   "metadata": {},
   "outputs": [],
   "source": []
  }
 ],
 "metadata": {
  "kernelspec": {
   "display_name": "Python 3",
   "language": "python",
   "name": "python3"
  },
  "language_info": {
   "codemirror_mode": {
    "name": "ipython",
    "version": 3
   },
   "file_extension": ".py",
   "mimetype": "text/x-python",
   "name": "python",
   "nbconvert_exporter": "python",
   "pygments_lexer": "ipython3",
   "version": "3.8.8"
  }
 },
 "nbformat": 4,
 "nbformat_minor": 5
}
